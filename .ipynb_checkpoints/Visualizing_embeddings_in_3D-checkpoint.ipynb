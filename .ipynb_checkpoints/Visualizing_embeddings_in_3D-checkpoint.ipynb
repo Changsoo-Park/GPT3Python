{
 "cells": [
  {
   "cell_type": "code",
   "execution_count": 1,
   "id": "ca7266fb-f143-4c92-9733-801aa6782da4",
   "metadata": {
    "tags": []
   },
   "outputs": [
    {
     "name": "stdout",
     "output_type": "stream",
     "text": [
      "Categories of DBpedia samples: Artist                    21\n",
      "Film                      19\n",
      "Plant                     19\n",
      "OfficeHolder              18\n",
      "Company                   17\n",
      "NaturalPlace              16\n",
      "Athlete                   16\n",
      "Village                   12\n",
      "WrittenWork               11\n",
      "Building                  11\n",
      "Album                     11\n",
      "Animal                    11\n",
      "EducationalInstitution    10\n",
      "MeanOfTransportation       8\n",
      "Name: category, dtype: int64\n"
     ]
    },
    {
     "data": {
      "text/html": [
       "<div>\n",
       "<style scoped>\n",
       "    .dataframe tbody tr th:only-of-type {\n",
       "        vertical-align: middle;\n",
       "    }\n",
       "\n",
       "    .dataframe tbody tr th {\n",
       "        vertical-align: top;\n",
       "    }\n",
       "\n",
       "    .dataframe thead th {\n",
       "        text-align: right;\n",
       "    }\n",
       "</style>\n",
       "<table border=\"1\" class=\"dataframe\">\n",
       "  <thead>\n",
       "    <tr style=\"text-align: right;\">\n",
       "      <th></th>\n",
       "      <th>text</th>\n",
       "      <th>category</th>\n",
       "    </tr>\n",
       "  </thead>\n",
       "  <tbody>\n",
       "    <tr>\n",
       "      <th>0</th>\n",
       "      <td>Morada Limited is a textile company based in ...</td>\n",
       "      <td>Company</td>\n",
       "    </tr>\n",
       "    <tr>\n",
       "      <th>1</th>\n",
       "      <td>The Armenian Mirror-Spectator is a newspaper ...</td>\n",
       "      <td>WrittenWork</td>\n",
       "    </tr>\n",
       "    <tr>\n",
       "      <th>2</th>\n",
       "      <td>Mt. Kinka (金華山 Kinka-zan) also known as Kinka...</td>\n",
       "      <td>NaturalPlace</td>\n",
       "    </tr>\n",
       "    <tr>\n",
       "      <th>3</th>\n",
       "      <td>Planning the Play of a Bridge Hand is a book ...</td>\n",
       "      <td>WrittenWork</td>\n",
       "    </tr>\n",
       "    <tr>\n",
       "      <th>4</th>\n",
       "      <td>Wang Yuanping (born 8 December 1976) is a ret...</td>\n",
       "      <td>Athlete</td>\n",
       "    </tr>\n",
       "  </tbody>\n",
       "</table>\n",
       "</div>"
      ],
      "text/plain": [
       "                                                text      category\n",
       "0   Morada Limited is a textile company based in ...       Company\n",
       "1   The Armenian Mirror-Spectator is a newspaper ...   WrittenWork\n",
       "2   Mt. Kinka (金華山 Kinka-zan) also known as Kinka...  NaturalPlace\n",
       "3   Planning the Play of a Bridge Hand is a book ...   WrittenWork\n",
       "4   Wang Yuanping (born 8 December 1976) is a ret...       Athlete"
      ]
     },
     "execution_count": 1,
     "metadata": {},
     "output_type": "execute_result"
    }
   ],
   "source": [
    "import pandas as pd\n",
    "samples = pd.read_json(\"data/dbpedia_samples.jsonl\", lines=True)\n",
    "categories = sorted(samples[\"category\"].unique())\n",
    "print(\"Categories of DBpedia samples:\", samples[\"category\"].value_counts())\n",
    "samples.head()"
   ]
  },
  {
   "cell_type": "code",
   "execution_count": null,
   "id": "71a8ac1d-c2ce-4909-803c-d08f6f9a11e6",
   "metadata": {},
   "outputs": [],
   "source": []
  }
 ],
 "metadata": {
  "kernelspec": {
   "display_name": "Python 3 (ipykernel)",
   "language": "python",
   "name": "python3"
  },
  "language_info": {
   "codemirror_mode": {
    "name": "ipython",
    "version": 3
   },
   "file_extension": ".py",
   "mimetype": "text/x-python",
   "name": "python",
   "nbconvert_exporter": "python",
   "pygments_lexer": "ipython3",
   "version": "3.10.10"
  }
 },
 "nbformat": 4,
 "nbformat_minor": 5
}
